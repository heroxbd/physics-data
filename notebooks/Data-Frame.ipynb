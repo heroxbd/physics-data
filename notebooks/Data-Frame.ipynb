{
 "cells": [
  {
   "cell_type": "markdown",
   "metadata": {},
   "source": [
    "## GNU R\n",
    "- R 是著名的统计学语言，应用广泛\n",
    "- 大部分统计学算法都有 R 语言的实现\n",
    "  - 非常适合快速试验\n",
    "- `dplyr`: apt install r-cran-dplyr"
   ]
  },
  {
   "cell_type": "markdown",
   "metadata": {
    "slideshow": {
     "slide_type": "slide"
    }
   },
   "source": [
    "## 熟悉 R 语言中的关系代数操作\n",
    "- 集合基本运算：交、并、差，笛卡尔积"
   ]
  },
  {
   "cell_type": "code",
   "execution_count": 1,
   "metadata": {},
   "outputs": [
    {
     "data": {
      "text/html": [
       "<table>\n",
       "<thead><tr><th scope=col>ID</th><th scope=col>name</th></tr></thead>\n",
       "<tbody>\n",
       "\t<tr><td>1   </td><td>Wang</td></tr>\n",
       "\t<tr><td>2   </td><td>Li  </td></tr>\n",
       "</tbody>\n",
       "</table>\n"
      ],
      "text/latex": [
       "\\begin{tabular}{r|ll}\n",
       " ID & name\\\\\n",
       "\\hline\n",
       "\t 1    & Wang\\\\\n",
       "\t 2    & Li  \\\\\n",
       "\\end{tabular}\n"
      ],
      "text/markdown": [
       "\n",
       "ID | name | \n",
       "|---|---|\n",
       "| 1    | Wang | \n",
       "| 2    | Li   | \n",
       "\n",
       "\n"
      ],
      "text/plain": [
       "  ID name\n",
       "1 1  Wang\n",
       "2 2  Li  "
      ]
     },
     "metadata": {},
     "output_type": "display_data"
    }
   ],
   "source": [
    "A <- data.frame(ID=c(1,2), name=c(\"Wang\", \"Li\"))\n",
    "A"
   ]
  },
  {
   "cell_type": "code",
   "execution_count": 2,
   "metadata": {},
   "outputs": [
    {
     "data": {
      "text/html": [
       "<table>\n",
       "<thead><tr><th scope=col>ID</th><th scope=col>name</th></tr></thead>\n",
       "<tbody>\n",
       "\t<tr><td>2    </td><td>Li   </td></tr>\n",
       "\t<tr><td>3    </td><td>Zhang</td></tr>\n",
       "</tbody>\n",
       "</table>\n"
      ],
      "text/latex": [
       "\\begin{tabular}{r|ll}\n",
       " ID & name\\\\\n",
       "\\hline\n",
       "\t 2     & Li   \\\\\n",
       "\t 3     & Zhang\\\\\n",
       "\\end{tabular}\n"
      ],
      "text/markdown": [
       "\n",
       "ID | name | \n",
       "|---|---|\n",
       "| 2     | Li    | \n",
       "| 3     | Zhang | \n",
       "\n",
       "\n"
      ],
      "text/plain": [
       "  ID name \n",
       "1 2  Li   \n",
       "2 3  Zhang"
      ]
     },
     "metadata": {},
     "output_type": "display_data"
    }
   ],
   "source": [
    "B <- data.frame(ID=c(2,3), name=c(\"Li\", \"Zhang\"))\n",
    "B"
   ]
  },
  {
   "cell_type": "code",
   "execution_count": 3,
   "metadata": {
    "slideshow": {
     "slide_type": "subslide"
    }
   },
   "outputs": [
    {
     "data": {
      "text/html": [
       "<table>\n",
       "<thead><tr><th scope=col>ID</th><th scope=col>name</th></tr></thead>\n",
       "<tbody>\n",
       "\t<tr><td>1    </td><td>Wang </td></tr>\n",
       "\t<tr><td>2    </td><td>Li   </td></tr>\n",
       "\t<tr><td>2    </td><td>Li   </td></tr>\n",
       "\t<tr><td>3    </td><td>Zhang</td></tr>\n",
       "</tbody>\n",
       "</table>\n"
      ],
      "text/latex": [
       "\\begin{tabular}{r|ll}\n",
       " ID & name\\\\\n",
       "\\hline\n",
       "\t 1     & Wang \\\\\n",
       "\t 2     & Li   \\\\\n",
       "\t 2     & Li   \\\\\n",
       "\t 3     & Zhang\\\\\n",
       "\\end{tabular}\n"
      ],
      "text/markdown": [
       "\n",
       "ID | name | \n",
       "|---|---|---|---|\n",
       "| 1     | Wang  | \n",
       "| 2     | Li    | \n",
       "| 2     | Li    | \n",
       "| 3     | Zhang | \n",
       "\n",
       "\n"
      ],
      "text/plain": [
       "  ID name \n",
       "1 1  Wang \n",
       "2 2  Li   \n",
       "3 2  Li   \n",
       "4 3  Zhang"
      ]
     },
     "metadata": {},
     "output_type": "display_data"
    }
   ],
   "source": [
    "AB <- rbind(A,B)\n",
    "AB"
   ]
  },
  {
   "cell_type": "code",
   "execution_count": 4,
   "metadata": {
    "slideshow": {
     "slide_type": "-"
    }
   },
   "outputs": [
    {
     "data": {
      "text/html": [
       "<table>\n",
       "<thead><tr><th></th><th scope=col>ID</th><th scope=col>name</th></tr></thead>\n",
       "<tbody>\n",
       "\t<tr><th scope=row>1</th><td>1    </td><td>Wang </td></tr>\n",
       "\t<tr><th scope=row>2</th><td>2    </td><td>Li   </td></tr>\n",
       "\t<tr><th scope=row>4</th><td>3    </td><td>Zhang</td></tr>\n",
       "</tbody>\n",
       "</table>\n"
      ],
      "text/latex": [
       "\\begin{tabular}{r|ll}\n",
       "  & ID & name\\\\\n",
       "\\hline\n",
       "\t1 & 1     & Wang \\\\\n",
       "\t2 & 2     & Li   \\\\\n",
       "\t4 & 3     & Zhang\\\\\n",
       "\\end{tabular}\n"
      ],
      "text/markdown": [
       "\n",
       "| <!--/--> | ID | name | \n",
       "|---|---|---|\n",
       "| 1 | 1     | Wang  | \n",
       "| 2 | 2     | Li    | \n",
       "| 4 | 3     | Zhang | \n",
       "\n",
       "\n"
      ],
      "text/plain": [
       "  ID name \n",
       "1 1  Wang \n",
       "2 2  Li   \n",
       "4 3  Zhang"
      ]
     },
     "metadata": {},
     "output_type": "display_data"
    }
   ],
   "source": [
    "unique(AB)"
   ]
  },
  {
   "cell_type": "code",
   "execution_count": 5,
   "metadata": {
    "slideshow": {
     "slide_type": "subslide"
    }
   },
   "outputs": [
    {
     "data": {
      "text/html": [
       "<table>\n",
       "<thead><tr><th scope=col>ID</th><th scope=col>name</th></tr></thead>\n",
       "<tbody>\n",
       "\t<tr><td>2 </td><td>Li</td></tr>\n",
       "</tbody>\n",
       "</table>\n"
      ],
      "text/latex": [
       "\\begin{tabular}{r|ll}\n",
       " ID & name\\\\\n",
       "\\hline\n",
       "\t 2  & Li\\\\\n",
       "\\end{tabular}\n"
      ],
      "text/markdown": [
       "\n",
       "ID | name | \n",
       "|---|\n",
       "| 2  | Li | \n",
       "\n",
       "\n"
      ],
      "text/plain": [
       "  ID name\n",
       "1 2  Li  "
      ]
     },
     "metadata": {},
     "output_type": "display_data"
    }
   ],
   "source": [
    "merge(A, B)"
   ]
  },
  {
   "cell_type": "code",
   "execution_count": 6,
   "metadata": {
    "slideshow": {
     "slide_type": "subslide"
    }
   },
   "outputs": [
    {
     "name": "stderr",
     "output_type": "stream",
     "text": [
      "Loading required package: dplyr\n",
      "\n",
      "Attaching package: ‘dplyr’\n",
      "\n",
      "The following objects are masked from ‘package:stats’:\n",
      "\n",
      "    filter, lag\n",
      "\n",
      "The following objects are masked from ‘package:base’:\n",
      "\n",
      "    intersect, setdiff, setequal, union\n",
      "\n",
      "Warning message:\n",
      "“Column `name` joining factors with different levels, coercing to character vector”"
     ]
    },
    {
     "data": {
      "text/html": [
       "<table>\n",
       "<thead><tr><th scope=col>ID</th><th scope=col>name</th></tr></thead>\n",
       "<tbody>\n",
       "\t<tr><td>1   </td><td>Wang</td></tr>\n",
       "</tbody>\n",
       "</table>\n"
      ],
      "text/latex": [
       "\\begin{tabular}{r|ll}\n",
       " ID & name\\\\\n",
       "\\hline\n",
       "\t 1    & Wang\\\\\n",
       "\\end{tabular}\n"
      ],
      "text/markdown": [
       "\n",
       "ID | name | \n",
       "|---|\n",
       "| 1    | Wang | \n",
       "\n",
       "\n"
      ],
      "text/plain": [
       "  ID name\n",
       "1 1  Wang"
      ]
     },
     "metadata": {},
     "output_type": "display_data"
    }
   ],
   "source": [
    "require(dplyr)\n",
    "setdiff(A, B)"
   ]
  },
  {
   "cell_type": "code",
   "execution_count": 7,
   "metadata": {
    "slideshow": {
     "slide_type": "subslide"
    }
   },
   "outputs": [
    {
     "data": {
      "text/html": [
       "<table>\n",
       "<thead><tr><th scope=col>ID.x</th><th scope=col>name.x</th><th scope=col>ID.y</th><th scope=col>name.y</th></tr></thead>\n",
       "<tbody>\n",
       "\t<tr><td>1    </td><td>Wang </td><td>2    </td><td>Li   </td></tr>\n",
       "\t<tr><td>2    </td><td>Li   </td><td>2    </td><td>Li   </td></tr>\n",
       "\t<tr><td>1    </td><td>Wang </td><td>3    </td><td>Zhang</td></tr>\n",
       "\t<tr><td>2    </td><td>Li   </td><td>3    </td><td>Zhang</td></tr>\n",
       "</tbody>\n",
       "</table>\n"
      ],
      "text/latex": [
       "\\begin{tabular}{r|llll}\n",
       " ID.x & name.x & ID.y & name.y\\\\\n",
       "\\hline\n",
       "\t 1     & Wang  & 2     & Li   \\\\\n",
       "\t 2     & Li    & 2     & Li   \\\\\n",
       "\t 1     & Wang  & 3     & Zhang\\\\\n",
       "\t 2     & Li    & 3     & Zhang\\\\\n",
       "\\end{tabular}\n"
      ],
      "text/markdown": [
       "\n",
       "ID.x | name.x | ID.y | name.y | \n",
       "|---|---|---|---|\n",
       "| 1     | Wang  | 2     | Li    | \n",
       "| 2     | Li    | 2     | Li    | \n",
       "| 1     | Wang  | 3     | Zhang | \n",
       "| 2     | Li    | 3     | Zhang | \n",
       "\n",
       "\n"
      ],
      "text/plain": [
       "  ID.x name.x ID.y name.y\n",
       "1 1    Wang   2    Li    \n",
       "2 2    Li     2    Li    \n",
       "3 1    Wang   3    Zhang \n",
       "4 2    Li     3    Zhang "
      ]
     },
     "metadata": {},
     "output_type": "display_data"
    }
   ],
   "source": [
    "AxB <- merge(A, B, by=NULL)\n",
    "AxB"
   ]
  },
  {
   "cell_type": "markdown",
   "metadata": {
    "slideshow": {
     "slide_type": "slide"
    }
   },
   "source": [
    "## 关系代数运算\n",
    "- 投影，选择，连接，除法"
   ]
  },
  {
   "cell_type": "code",
   "execution_count": 8,
   "metadata": {
    "slideshow": {
     "slide_type": "-"
    }
   },
   "outputs": [
    {
     "data": {
      "text/html": [
       "<ol class=list-inline>\n",
       "\t<li>Wang</li>\n",
       "\t<li>Li</li>\n",
       "</ol>\n",
       "\n",
       "<details>\n",
       "\t<summary style=display:list-item;cursor:pointer>\n",
       "\t\t<strong>Levels</strong>:\n",
       "\t</summary>\n",
       "\t<ol class=list-inline>\n",
       "\t\t<li>'Li'</li>\n",
       "\t\t<li>'Wang'</li>\n",
       "\t</ol>\n",
       "</details>"
      ],
      "text/latex": [
       "\\begin{enumerate*}\n",
       "\\item Wang\n",
       "\\item Li\n",
       "\\end{enumerate*}\n",
       "\n",
       "\\emph{Levels}: \\begin{enumerate*}\n",
       "\\item 'Li'\n",
       "\\item 'Wang'\n",
       "\\end{enumerate*}\n"
      ],
      "text/markdown": [
       "1. Wang\n",
       "2. Li\n",
       "\n",
       "\n",
       "\n",
       "**Levels**: 1. 'Li'\n",
       "2. 'Wang'\n",
       "\n",
       "\n"
      ],
      "text/plain": [
       "[1] Wang Li  \n",
       "Levels: Li Wang"
      ]
     },
     "metadata": {},
     "output_type": "display_data"
    }
   ],
   "source": [
    "A$name"
   ]
  },
  {
   "cell_type": "code",
   "execution_count": 9,
   "metadata": {},
   "outputs": [
    {
     "data": {
      "text/html": [
       "<table>\n",
       "<thead><tr><th></th><th scope=col>ID</th><th scope=col>name</th></tr></thead>\n",
       "<tbody>\n",
       "\t<tr><th scope=row>2</th><td>2 </td><td>Li</td></tr>\n",
       "</tbody>\n",
       "</table>\n"
      ],
      "text/latex": [
       "\\begin{tabular}{r|ll}\n",
       "  & ID & name\\\\\n",
       "\\hline\n",
       "\t2 & 2  & Li\\\\\n",
       "\\end{tabular}\n"
      ],
      "text/markdown": [
       "\n",
       "| <!--/--> | ID | name | \n",
       "|---|\n",
       "| 2 | 2  | Li | \n",
       "\n",
       "\n"
      ],
      "text/plain": [
       "  ID name\n",
       "2 2  Li  "
      ]
     },
     "metadata": {},
     "output_type": "display_data"
    }
   ],
   "source": [
    "subset(A, name==\"Li\")"
   ]
  },
  {
   "cell_type": "code",
   "execution_count": 10,
   "metadata": {
    "slideshow": {
     "slide_type": "subslide"
    }
   },
   "outputs": [
    {
     "data": {
      "text/html": [
       "<table>\n",
       "<thead><tr><th scope=col>ID</th><th scope=col>name</th><th scope=col>GPA</th></tr></thead>\n",
       "<tbody>\n",
       "\t<tr><td>1   </td><td>Wang</td><td>3   </td></tr>\n",
       "\t<tr><td>2   </td><td>Li  </td><td>4   </td></tr>\n",
       "</tbody>\n",
       "</table>\n"
      ],
      "text/latex": [
       "\\begin{tabular}{r|lll}\n",
       " ID & name & GPA\\\\\n",
       "\\hline\n",
       "\t 1    & Wang & 3   \\\\\n",
       "\t 2    & Li   & 4   \\\\\n",
       "\\end{tabular}\n"
      ],
      "text/markdown": [
       "\n",
       "ID | name | GPA | \n",
       "|---|---|\n",
       "| 1    | Wang | 3    | \n",
       "| 2    | Li   | 4    | \n",
       "\n",
       "\n"
      ],
      "text/plain": [
       "  ID name GPA\n",
       "1 1  Wang 3  \n",
       "2 2  Li   4  "
      ]
     },
     "metadata": {},
     "output_type": "display_data"
    }
   ],
   "source": [
    "A$GPA = c(3,4)\n",
    "A"
   ]
  },
  {
   "cell_type": "code",
   "execution_count": 11,
   "metadata": {},
   "outputs": [
    {
     "data": {
      "text/html": [
       "<table>\n",
       "<thead><tr><th scope=col>ID</th><th scope=col>name</th><th scope=col>age</th></tr></thead>\n",
       "<tbody>\n",
       "\t<tr><td>2    </td><td>Li   </td><td>19   </td></tr>\n",
       "\t<tr><td>3    </td><td>Zhang</td><td>20   </td></tr>\n",
       "</tbody>\n",
       "</table>\n"
      ],
      "text/latex": [
       "\\begin{tabular}{r|lll}\n",
       " ID & name & age\\\\\n",
       "\\hline\n",
       "\t 2     & Li    & 19   \\\\\n",
       "\t 3     & Zhang & 20   \\\\\n",
       "\\end{tabular}\n"
      ],
      "text/markdown": [
       "\n",
       "ID | name | age | \n",
       "|---|---|\n",
       "| 2     | Li    | 19    | \n",
       "| 3     | Zhang | 20    | \n",
       "\n",
       "\n"
      ],
      "text/plain": [
       "  ID name  age\n",
       "1 2  Li    19 \n",
       "2 3  Zhang 20 "
      ]
     },
     "metadata": {},
     "output_type": "display_data"
    }
   ],
   "source": [
    "B$age = c(19, 20)\n",
    "B"
   ]
  },
  {
   "cell_type": "code",
   "execution_count": 12,
   "metadata": {
    "slideshow": {
     "slide_type": "subslide"
    }
   },
   "outputs": [
    {
     "data": {
      "text/html": [
       "<table>\n",
       "<thead><tr><th scope=col>ID</th><th scope=col>name</th><th scope=col>GPA</th><th scope=col>age</th></tr></thead>\n",
       "<tbody>\n",
       "\t<tr><td>2 </td><td>Li</td><td>4 </td><td>19</td></tr>\n",
       "</tbody>\n",
       "</table>\n"
      ],
      "text/latex": [
       "\\begin{tabular}{r|llll}\n",
       " ID & name & GPA & age\\\\\n",
       "\\hline\n",
       "\t 2  & Li & 4  & 19\\\\\n",
       "\\end{tabular}\n"
      ],
      "text/markdown": [
       "\n",
       "ID | name | GPA | age | \n",
       "|---|\n",
       "| 2  | Li | 4  | 19 | \n",
       "\n",
       "\n"
      ],
      "text/plain": [
       "  ID name GPA age\n",
       "1 2  Li   4   19 "
      ]
     },
     "metadata": {},
     "output_type": "display_data"
    }
   ],
   "source": [
    "# 内连接\n",
    "merge(A, B)"
   ]
  },
  {
   "cell_type": "code",
   "execution_count": 13,
   "metadata": {
    "slideshow": {
     "slide_type": "-"
    }
   },
   "outputs": [
    {
     "data": {
      "text/html": [
       "<table>\n",
       "<thead><tr><th scope=col>ID</th><th scope=col>name</th><th scope=col>GPA</th><th scope=col>age</th></tr></thead>\n",
       "<tbody>\n",
       "\t<tr><td>1   </td><td>Wang</td><td>3   </td><td>NA  </td></tr>\n",
       "\t<tr><td>2   </td><td>Li  </td><td>4   </td><td>19  </td></tr>\n",
       "</tbody>\n",
       "</table>\n"
      ],
      "text/latex": [
       "\\begin{tabular}{r|llll}\n",
       " ID & name & GPA & age\\\\\n",
       "\\hline\n",
       "\t 1    & Wang & 3    & NA  \\\\\n",
       "\t 2    & Li   & 4    & 19  \\\\\n",
       "\\end{tabular}\n"
      ],
      "text/markdown": [
       "\n",
       "ID | name | GPA | age | \n",
       "|---|---|\n",
       "| 1    | Wang | 3    | NA   | \n",
       "| 2    | Li   | 4    | 19   | \n",
       "\n",
       "\n"
      ],
      "text/plain": [
       "  ID name GPA age\n",
       "1 1  Wang 3   NA \n",
       "2 2  Li   4   19 "
      ]
     },
     "metadata": {},
     "output_type": "display_data"
    }
   ],
   "source": [
    "# 左连接\n",
    "merge(A, B, all.x=TRUE)"
   ]
  },
  {
   "cell_type": "code",
   "execution_count": 14,
   "metadata": {},
   "outputs": [
    {
     "data": {
      "text/html": [
       "<table>\n",
       "<thead><tr><th scope=col>ID</th><th scope=col>name</th><th scope=col>GPA</th><th scope=col>age</th></tr></thead>\n",
       "<tbody>\n",
       "\t<tr><td>2    </td><td>Li   </td><td> 4   </td><td>19   </td></tr>\n",
       "\t<tr><td>3    </td><td>Zhang</td><td>NA   </td><td>20   </td></tr>\n",
       "</tbody>\n",
       "</table>\n"
      ],
      "text/latex": [
       "\\begin{tabular}{r|llll}\n",
       " ID & name & GPA & age\\\\\n",
       "\\hline\n",
       "\t 2     & Li    &  4    & 19   \\\\\n",
       "\t 3     & Zhang & NA    & 20   \\\\\n",
       "\\end{tabular}\n"
      ],
      "text/markdown": [
       "\n",
       "ID | name | GPA | age | \n",
       "|---|---|\n",
       "| 2     | Li    |  4    | 19    | \n",
       "| 3     | Zhang | NA    | 20    | \n",
       "\n",
       "\n"
      ],
      "text/plain": [
       "  ID name  GPA age\n",
       "1 2  Li     4  19 \n",
       "2 3  Zhang NA  20 "
      ]
     },
     "metadata": {},
     "output_type": "display_data"
    }
   ],
   "source": [
    "# 右连接\n",
    "merge(A, B, all.y=TRUE)"
   ]
  },
  {
   "cell_type": "code",
   "execution_count": 15,
   "metadata": {
    "slideshow": {
     "slide_type": "subslide"
    }
   },
   "outputs": [
    {
     "data": {
      "text/html": [
       "<table>\n",
       "<thead><tr><th scope=col>ID</th><th scope=col>name</th><th scope=col>GPA</th><th scope=col>age</th></tr></thead>\n",
       "<tbody>\n",
       "\t<tr><td>1    </td><td>Wang </td><td> 3   </td><td>NA   </td></tr>\n",
       "\t<tr><td>2    </td><td>Li   </td><td> 4   </td><td>19   </td></tr>\n",
       "\t<tr><td>3    </td><td>Zhang</td><td>NA   </td><td>20   </td></tr>\n",
       "</tbody>\n",
       "</table>\n"
      ],
      "text/latex": [
       "\\begin{tabular}{r|llll}\n",
       " ID & name & GPA & age\\\\\n",
       "\\hline\n",
       "\t 1     & Wang  &  3    & NA   \\\\\n",
       "\t 2     & Li    &  4    & 19   \\\\\n",
       "\t 3     & Zhang & NA    & 20   \\\\\n",
       "\\end{tabular}\n"
      ],
      "text/markdown": [
       "\n",
       "ID | name | GPA | age | \n",
       "|---|---|---|\n",
       "| 1     | Wang  |  3    | NA    | \n",
       "| 2     | Li    |  4    | 19    | \n",
       "| 3     | Zhang | NA    | 20    | \n",
       "\n",
       "\n"
      ],
      "text/plain": [
       "  ID name  GPA age\n",
       "1 1  Wang   3  NA \n",
       "2 2  Li     4  19 \n",
       "3 3  Zhang NA  20 "
      ]
     },
     "metadata": {},
     "output_type": "display_data"
    }
   ],
   "source": [
    "# 外连接\n",
    "merge(A, B, all=TRUE)"
   ]
  },
  {
   "cell_type": "markdown",
   "metadata": {
    "slideshow": {
     "slide_type": "slide"
    }
   },
   "source": [
    "## 关系代数之外的常用运算\n",
    "- GroupBy, SortBy"
   ]
  },
  {
   "cell_type": "code",
   "execution_count": 19,
   "metadata": {},
   "outputs": [
    {
     "data": {
      "text/html": [
       "<table>\n",
       "<thead><tr><th scope=col>ID.x</th><th scope=col>name.x</th><th scope=col>ID.y</th><th scope=col>name.y</th></tr></thead>\n",
       "<tbody>\n",
       "\t<tr><td>1    </td><td>Wang </td><td>2    </td><td>Li   </td></tr>\n",
       "\t<tr><td>2    </td><td>Li   </td><td>2    </td><td>Li   </td></tr>\n",
       "\t<tr><td>1    </td><td>Wang </td><td>3    </td><td>Zhang</td></tr>\n",
       "\t<tr><td>2    </td><td>Li   </td><td>3    </td><td>Zhang</td></tr>\n",
       "</tbody>\n",
       "</table>\n"
      ],
      "text/latex": [
       "\\begin{tabular}{r|llll}\n",
       " ID.x & name.x & ID.y & name.y\\\\\n",
       "\\hline\n",
       "\t 1     & Wang  & 2     & Li   \\\\\n",
       "\t 2     & Li    & 2     & Li   \\\\\n",
       "\t 1     & Wang  & 3     & Zhang\\\\\n",
       "\t 2     & Li    & 3     & Zhang\\\\\n",
       "\\end{tabular}\n"
      ],
      "text/markdown": [
       "\n",
       "ID.x | name.x | ID.y | name.y | \n",
       "|---|---|---|---|\n",
       "| 1     | Wang  | 2     | Li    | \n",
       "| 2     | Li    | 2     | Li    | \n",
       "| 1     | Wang  | 3     | Zhang | \n",
       "| 2     | Li    | 3     | Zhang | \n",
       "\n",
       "\n"
      ],
      "text/plain": [
       "  ID.x name.x ID.y name.y\n",
       "1 1    Wang   2    Li    \n",
       "2 2    Li     2    Li    \n",
       "3 1    Wang   3    Zhang \n",
       "4 2    Li     3    Zhang "
      ]
     },
     "metadata": {},
     "output_type": "display_data"
    }
   ],
   "source": [
    "AxB"
   ]
  },
  {
   "cell_type": "code",
   "execution_count": 16,
   "metadata": {},
   "outputs": [
    {
     "data": {
      "text/html": [
       "<table>\n",
       "<thead><tr><th scope=col>name.x</th><th scope=col>n</th></tr></thead>\n",
       "<tbody>\n",
       "\t<tr><td>Li  </td><td>2   </td></tr>\n",
       "\t<tr><td>Wang</td><td>2   </td></tr>\n",
       "</tbody>\n",
       "</table>\n"
      ],
      "text/latex": [
       "\\begin{tabular}{r|ll}\n",
       " name.x & n\\\\\n",
       "\\hline\n",
       "\t Li   & 2   \\\\\n",
       "\t Wang & 2   \\\\\n",
       "\\end{tabular}\n"
      ],
      "text/markdown": [
       "\n",
       "name.x | n | \n",
       "|---|---|\n",
       "| Li   | 2    | \n",
       "| Wang | 2    | \n",
       "\n",
       "\n"
      ],
      "text/plain": [
       "  name.x n\n",
       "1 Li     2\n",
       "2 Wang   2"
      ]
     },
     "metadata": {},
     "output_type": "display_data"
    }
   ],
   "source": [
    "AxB %>% group_by(name.x) %>% summarise(n=n())"
   ]
  },
  {
   "cell_type": "code",
   "execution_count": 17,
   "metadata": {
    "slideshow": {
     "slide_type": "subslide"
    }
   },
   "outputs": [
    {
     "data": {
      "text/html": [
       "<ol class=list-inline>\n",
       "\t<li>2</li>\n",
       "\t<li>4</li>\n",
       "\t<li>1</li>\n",
       "\t<li>3</li>\n",
       "</ol>\n"
      ],
      "text/latex": [
       "\\begin{enumerate*}\n",
       "\\item 2\n",
       "\\item 4\n",
       "\\item 1\n",
       "\\item 3\n",
       "\\end{enumerate*}\n"
      ],
      "text/markdown": [
       "1. 2\n",
       "2. 4\n",
       "3. 1\n",
       "4. 3\n",
       "\n",
       "\n"
      ],
      "text/plain": [
       "[1] 2 4 1 3"
      ]
     },
     "metadata": {},
     "output_type": "display_data"
    }
   ],
   "source": [
    "order(AxB$name.x)"
   ]
  },
  {
   "cell_type": "code",
   "execution_count": 18,
   "metadata": {},
   "outputs": [
    {
     "data": {
      "text/html": [
       "<table>\n",
       "<thead><tr><th></th><th scope=col>ID.x</th><th scope=col>name.x</th><th scope=col>ID.y</th><th scope=col>name.y</th></tr></thead>\n",
       "<tbody>\n",
       "\t<tr><th scope=row>2</th><td>2    </td><td>Li   </td><td>2    </td><td>Li   </td></tr>\n",
       "\t<tr><th scope=row>4</th><td>2    </td><td>Li   </td><td>3    </td><td>Zhang</td></tr>\n",
       "\t<tr><th scope=row>1</th><td>1    </td><td>Wang </td><td>2    </td><td>Li   </td></tr>\n",
       "\t<tr><th scope=row>3</th><td>1    </td><td>Wang </td><td>3    </td><td>Zhang</td></tr>\n",
       "</tbody>\n",
       "</table>\n"
      ],
      "text/latex": [
       "\\begin{tabular}{r|llll}\n",
       "  & ID.x & name.x & ID.y & name.y\\\\\n",
       "\\hline\n",
       "\t2 & 2     & Li    & 2     & Li   \\\\\n",
       "\t4 & 2     & Li    & 3     & Zhang\\\\\n",
       "\t1 & 1     & Wang  & 2     & Li   \\\\\n",
       "\t3 & 1     & Wang  & 3     & Zhang\\\\\n",
       "\\end{tabular}\n"
      ],
      "text/markdown": [
       "\n",
       "| <!--/--> | ID.x | name.x | ID.y | name.y | \n",
       "|---|---|---|---|\n",
       "| 2 | 2     | Li    | 2     | Li    | \n",
       "| 4 | 2     | Li    | 3     | Zhang | \n",
       "| 1 | 1     | Wang  | 2     | Li    | \n",
       "| 3 | 1     | Wang  | 3     | Zhang | \n",
       "\n",
       "\n"
      ],
      "text/plain": [
       "  ID.x name.x ID.y name.y\n",
       "2 2    Li     2    Li    \n",
       "4 2    Li     3    Zhang \n",
       "1 1    Wang   2    Li    \n",
       "3 1    Wang   3    Zhang "
      ]
     },
     "metadata": {},
     "output_type": "display_data"
    }
   ],
   "source": [
    "AxB[order(AxB$name.x),]"
   ]
  },
  {
   "cell_type": "code",
   "execution_count": null,
   "metadata": {},
   "outputs": [],
   "source": []
  }
 ],
 "metadata": {
  "celltoolbar": "Slideshow",
  "kernelspec": {
   "display_name": "R",
   "language": "R",
   "name": "ir"
  },
  "language_info": {
   "codemirror_mode": "r",
   "file_extension": ".r",
   "mimetype": "text/x-r-source",
   "name": "R",
   "pygments_lexer": "r",
   "version": "3.4.1"
  }
 },
 "nbformat": 4,
 "nbformat_minor": 2
}
