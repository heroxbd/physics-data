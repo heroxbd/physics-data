{
 "cells": [
  {
   "cell_type": "markdown",
   "metadata": {
    "slideshow": {
     "slide_type": "slide"
    }
   },
   "source": [
    "## Python 的交互模式和程序模式\n",
    "\n",
    "- 交互模式 Read–eval–print loop (REPL)。适合探索试验\n",
    "- 程序模式，适合批量执行\n",
    "  - 问题：程序模式如何获得外界的输入\n",
    "  - input\n",
    "  - 程序调用时的参数\n",
    "\n",
    "    `git config --global user.name \"Benda Xu\"`"
   ]
  },
  {
   "cell_type": "markdown",
   "metadata": {
    "slideshow": {
     "slide_type": "subslide"
    }
   },
   "source": [
    "### Python 程序读取命令行参数\n",
    "\n",
    "```\n",
    "import sys\n",
    "\n",
    "print(sys.argv)\n",
    "```\n",
    "\n",
    "调用 `sys` 模块，`sys.argv` 是一个列表，内含程序调用的参数\n",
    "\n",
    "```\n",
    "$ python3 sys-demo.py 第一个参数 第二个参数\n",
    "['sys-demo.py', '第一个参数', '第二个参数']\n",
    "  ^sys.argv[0]  sys.argv[1]  sys.argv[2]\n",
    "```"
   ]
  },
  {
   "cell_type": "markdown",
   "metadata": {
    "slideshow": {
     "slide_type": "slide"
    }
   },
   "source": [
    "## Python 的函数\n",
    "\n",
    "- 函数是程序的基本组成部分。\n",
    "- 函数可以直观看作是多段代码组成的功能单元。\n",
    "- 函数的输入输出。\n",
    "- 函数方便代码复用，体现 _一次_ 原则。"
   ]
  },
  {
   "cell_type": "code",
   "execution_count": 2,
   "metadata": {
    "slideshow": {
     "slide_type": "-"
    }
   },
   "outputs": [
    {
     "name": "stdout",
     "output_type": "stream",
     "text": [
      "x is 3 and y is 5\n"
     ]
    },
    {
     "data": {
      "text/plain": [
       "8"
      ]
     },
     "execution_count": 2,
     "metadata": {},
     "output_type": "execute_result"
    }
   ],
   "source": [
    "def add(x, y):\n",
    "    print(f\"x is {x} and y is {y}\")\n",
    "    return x + y  # Return values with a return statement\n",
    "add(3, 5)"
   ]
  },
  {
   "cell_type": "code",
   "execution_count": 7,
   "metadata": {
    "slideshow": {
     "slide_type": "subslide"
    }
   },
   "outputs": [
    {
     "name": "stdout",
     "output_type": "stream",
     "text": [
      "左 右\n",
      "右 左\n",
      "左 右\n"
     ]
    }
   ],
   "source": [
    "def swap(x, y):\n",
    "    return y, x\n",
    "a = '左'\n",
    "b = '右'\n",
    "\n",
    "print(a,b)\n",
    "a, b = swap(a,b)\n",
    "print(a,b)\n",
    "a, b = b, a\n",
    "print(a,b)"
   ]
  },
  {
   "cell_type": "code",
   "execution_count": null,
   "metadata": {
    "slideshow": {
     "slide_type": "-"
    }
   },
   "outputs": [],
   "source": [
    "tmp = a # 对比\n",
    "a = b\n",
    "b = tmp"
   ]
  },
  {
   "cell_type": "markdown",
   "metadata": {
    "slideshow": {
     "slide_type": "subslide"
    }
   },
   "source": [
    "### Map 函数调用\n",
    "\n",
    "- 使用 `map` 可以把列表的映射到另一个列表\n",
    "  - 实际上，是可以映射任何可以由迭代器描述的结构"
   ]
  },
  {
   "cell_type": "code",
   "execution_count": 9,
   "metadata": {
    "slideshow": {
     "slide_type": "-"
    }
   },
   "outputs": [
    {
     "data": {
      "text/plain": [
       "[1, 4, 9, 16, 25, 36]"
      ]
     },
     "execution_count": 9,
     "metadata": {},
     "output_type": "execute_result"
    }
   ],
   "source": [
    "def squared(x):\n",
    "    return x*x\n",
    "\n",
    "list(map(squared, [1,2,3,4,5,6]))"
   ]
  },
  {
   "cell_type": "markdown",
   "metadata": {
    "slideshow": {
     "slide_type": "subslide"
    }
   },
   "source": [
    "## 无名函数\n",
    "\n",
    "```\n",
    "lambda x: x > 2\n",
    "       ^  ~~~~~\n",
    "\n",
    "```\n",
    "\n",
    "函数名不重要时，可以使用无名函数"
   ]
  },
  {
   "cell_type": "code",
   "execution_count": 24,
   "metadata": {
    "slideshow": {
     "slide_type": "-"
    }
   },
   "outputs": [
    {
     "data": {
      "text/plain": [
       "[0, 1, 4, 9, 16, 25]"
      ]
     },
     "execution_count": 24,
     "metadata": {},
     "output_type": "execute_result"
    }
   ],
   "source": [
    "list(map(lambda x: x*x, range(6)))"
   ]
  },
  {
   "cell_type": "markdown",
   "metadata": {
    "slideshow": {
     "slide_type": "subslide"
    }
   },
   "source": [
    "## 函数的名字空间\n",
    "\n",
    "- 名字空间，namespace，例如 C++\n",
    "\n",
    "```\n",
    "using namespace std;\n",
    "\n",
    "std::cout\n",
    "```\n",
    "\n",
    "函数有自己变量存储空间"
   ]
  },
  {
   "cell_type": "code",
   "execution_count": 26,
   "metadata": {
    "slideshow": {
     "slide_type": "-"
    }
   },
   "outputs": [
    {
     "name": "stdout",
     "output_type": "stream",
     "text": [
      "1\n"
     ]
    }
   ],
   "source": [
    "x = 1\n",
    "def scope():\n",
    "    x = 2\n",
    "scope()\n",
    "print(x)"
   ]
  },
  {
   "cell_type": "code",
   "execution_count": 27,
   "metadata": {
    "slideshow": {
     "slide_type": "-"
    }
   },
   "outputs": [
    {
     "name": "stdout",
     "output_type": "stream",
     "text": [
      "2\n"
     ]
    }
   ],
   "source": [
    "def gscope():\n",
    "    global x\n",
    "    x = 2\n",
    "gscope()\n",
    "print(x)"
   ]
  },
  {
   "cell_type": "markdown",
   "metadata": {
    "slideshow": {
     "slide_type": "subslide"
    }
   },
   "source": [
    "### 函数的递归调用\n",
    "\n",
    "- 函数可以调用它自己"
   ]
  },
  {
   "cell_type": "code",
   "execution_count": 10,
   "metadata": {},
   "outputs": [
    {
     "name": "stdout",
     "output_type": "stream",
     "text": [
      "123\n",
      "61\n",
      "30\n",
      "15\n",
      "7\n",
      "3\n",
      "1\n"
     ]
    }
   ],
   "source": [
    "n=123\n",
    "while n>=1:\n",
    "    print(n)\n",
    "    n //= 2 # n = n // 2 的简写"
   ]
  },
  {
   "cell_type": "code",
   "execution_count": 13,
   "metadata": {},
   "outputs": [
    {
     "name": "stdout",
     "output_type": "stream",
     "text": [
      "123\n",
      "61\n",
      "30\n",
      "15\n",
      "7\n",
      "3\n",
      "1\n"
     ]
    }
   ],
   "source": [
    "def div2(n):\n",
    "    if n>=1:\n",
    "        print(n)\n",
    "        div2(n//2)\n",
    "div2(123)"
   ]
  },
  {
   "cell_type": "markdown",
   "metadata": {
    "slideshow": {
     "slide_type": "slide"
    }
   },
   "source": [
    "## 字符串的更多操作\n",
    "\n",
    "https://docs.python.org/3.7/library/stdtypes.html#textseq"
   ]
  },
  {
   "cell_type": "code",
   "execution_count": 2,
   "metadata": {
    "slideshow": {
     "slide_type": "-"
    }
   },
   "outputs": [
    {
     "data": {
      "text/plain": [
       "2"
      ]
     },
     "execution_count": 2,
     "metadata": {},
     "output_type": "execute_result"
    }
   ],
   "source": [
    "s = \"今天的气温是 30 摄氏度，明天是 29 摄氏度\"\n",
    "s.count(\"度\")"
   ]
  },
  {
   "cell_type": "code",
   "execution_count": 3,
   "metadata": {
    "slideshow": {
     "slide_type": "-"
    }
   },
   "outputs": [
    {
     "data": {
      "text/plain": [
       "True"
      ]
     },
     "execution_count": 3,
     "metadata": {},
     "output_type": "execute_result"
    }
   ],
   "source": [
    "s.startswith(\"今\")"
   ]
  },
  {
   "cell_type": "code",
   "execution_count": 4,
   "metadata": {
    "slideshow": {
     "slide_type": "-"
    }
   },
   "outputs": [
    {
     "data": {
      "text/plain": [
       "['今天的气温是 30 摄氏度', '明天是 29 摄氏度']"
      ]
     },
     "execution_count": 4,
     "metadata": {},
     "output_type": "execute_result"
    }
   ],
   "source": [
    "s.split(\"，\")"
   ]
  },
  {
   "cell_type": "code",
   "execution_count": 5,
   "metadata": {
    "slideshow": {
     "slide_type": "subslide"
    }
   },
   "outputs": [
    {
     "name": "stdout",
     "output_type": "stream",
     "text": [
      "0b100100010100\n"
     ]
    }
   ],
   "source": [
    "seed = bin(2324)\n",
    "print(seed)"
   ]
  },
  {
   "cell_type": "code",
   "execution_count": 6,
   "metadata": {
    "slideshow": {
     "slide_type": "-"
    }
   },
   "outputs": [
    {
     "data": {
      "text/plain": [
       "'奥b利奥奥利奥奥奥利奥利奥奥'"
      ]
     },
     "execution_count": 6,
     "metadata": {},
     "output_type": "execute_result"
    }
   ],
   "source": [
    "seed.replace('0',\"奥\").replace('1',\"利\")"
   ]
  },
  {
   "cell_type": "markdown",
   "metadata": {},
   "source": [
    "灵感来自奥利奥生成器 https://ljl.li/oreooo/ "
   ]
  },
  {
   "cell_type": "markdown",
   "metadata": {
    "slideshow": {
     "slide_type": "slide"
    }
   },
   "source": [
    "## 文件读取\n",
    "\n",
    "- 复习程序与外界的小量交互：\n",
    "  - 提示-输入 `input()`\n",
    "  - 参数输入\n",
    "- 大量输入使用文件更便利"
   ]
  },
  {
   "cell_type": "markdown",
   "metadata": {},
   "source": [
    "下载一个文本文件作为输入\n",
    "\n",
    "```\n",
    "apt install wget\n",
    "wget 'http://hep.tsinghua.edu.cn/~orv/pd/iterator.txt'\n",
    "```"
   ]
  },
  {
   "cell_type": "code",
   "execution_count": 15,
   "metadata": {
    "slideshow": {
     "slide_type": "-"
    }
   },
   "outputs": [
    {
     "name": "stdout",
     "output_type": "stream",
     "text": [
      "Iterator Types\n",
      "\n",
      "\n",
      "\n",
      "Python supports a concept of iteration over containers. This is\n",
      "\n",
      "implemented using two distinct methods; these are used to allow\n",
      "\n",
      "user-defined classes to support iteration. Sequences, described below\n",
      "\n",
      "in more detail, always support the iteration methods.\n",
      "\n"
     ]
    }
   ],
   "source": [
    "for l in open(\"iterator.txt\"):\n",
    "    print(l)"
   ]
  },
  {
   "cell_type": "code",
   "execution_count": 16,
   "metadata": {
    "slideshow": {
     "slide_type": "subslide"
    }
   },
   "outputs": [
    {
     "name": "stdout",
     "output_type": "stream",
     "text": [
      "Iterator Types\n",
      "\n",
      "Python supports a concept of iteration over containers. This is\n",
      "implemented using two distinct methods; these are used to allow\n",
      "user-defined classes to support iteration. Sequences, described below\n",
      "in more detail, always support the iteration methods.\n"
     ]
    }
   ],
   "source": [
    "for l in open(\"iterator.txt\"):\n",
    "    print(l, end=\"\")"
   ]
  },
  {
   "cell_type": "markdown",
   "metadata": {
    "slideshow": {
     "slide_type": "subslide"
    }
   },
   "source": [
    "## 文件输出"
   ]
  },
  {
   "cell_type": "code",
   "execution_count": 17,
   "metadata": {
    "slideshow": {
     "slide_type": "-"
    }
   },
   "outputs": [],
   "source": [
    "f = open(\"log.txt\", 'w')\n",
    "f.write(\"第一天 概论\\n\")\n",
    "f.write(\"第二天 Python 入门\\n\")\n",
    "f.close()"
   ]
  },
  {
   "cell_type": "markdown",
   "metadata": {
    "slideshow": {
     "slide_type": "slide"
    }
   },
   "source": [
    "## 生存技能\n",
    "\n",
    "- 查阅文档\n",
    "\n",
    "随手查阅用法\n",
    "\n",
    "- 调试程序\n",
    "  \n",
    "理解程序中的问题\n"
   ]
  },
  {
   "cell_type": "code",
   "execution_count": 18,
   "metadata": {},
   "outputs": [
    {
     "name": "stdout",
     "output_type": "stream",
     "text": [
      "Help on NoneType object:\n",
      "\n",
      "class NoneType(object)\n",
      " |  Methods defined here:\n",
      " |  \n",
      " |  __bool__(self, /)\n",
      " |      self != 0\n",
      " |  \n",
      " |  __new__(*args, **kwargs) from builtins.type\n",
      " |      Create and return a new object.  See help(type) for accurate signature.\n",
      " |  \n",
      " |  __repr__(self, /)\n",
      " |      Return repr(self).\n",
      "\n"
     ]
    }
   ],
   "source": [
    "help(None)"
   ]
  },
  {
   "cell_type": "markdown",
   "metadata": {
    "slideshow": {
     "slide_type": "subslide"
    }
   },
   "source": [
    "### 调试\n",
    "\n",
    "- 使用 `print()` 输出中间变量\n",
    "\n",
    "- 使用 REPL 环境，运行程序时不自动退出\n",
    "\n",
    "  `python3 -i xxxxx.py`\n",
    "  \n",
    "摘自 `man python3`\n",
    "  \n",
    "-i     When a script is passed as first argument or the -c option is used, enter interactive mode after executing the script  or  the  command.  ... This can be useful to inspect global variables or a stack trace when a script raises an exception.\n",
    "\n",
    "无法调试函数内的变量，更复杂的情况可使用调试器\n",
    "\n",
    "- 使用 Python debugger，以及 IPython 增强版"
   ]
  },
  {
   "cell_type": "markdown",
   "metadata": {
    "slideshow": {
     "slide_type": "subslide"
    }
   },
   "source": [
    "- 设置断点\n",
    "\n",
    "`breakpoint()`\n",
    "\n",
    "Python 3.7 之前：\n",
    "  \n",
    "`import pdb; pdb.set_trace()`\n",
    "\n",
    "- 进入调试环境之后\n",
    "  - 可以 REPL\n",
    "  - next 执行下一步\n",
    "  - where 给出当前位置\n",
    "  - list 列出附近的程序"
   ]
  }
 ],
 "metadata": {
  "celltoolbar": "Slideshow",
  "kernelspec": {
   "display_name": "Python 3",
   "language": "python",
   "name": "python3"
  },
  "language_info": {
   "codemirror_mode": {
    "name": "ipython",
    "version": 3
   },
   "file_extension": ".py",
   "mimetype": "text/x-python",
   "name": "python",
   "nbconvert_exporter": "python",
   "pygments_lexer": "ipython3",
   "version": "3.6.10"
  }
 },
 "nbformat": 4,
 "nbformat_minor": 2
}
